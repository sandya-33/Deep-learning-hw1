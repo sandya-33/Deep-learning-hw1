{
 "cells": [
  {
   "cell_type": "code",
   "execution_count": 1,
   "id": "5e05d884-eef4-4243-adfd-7a1f3b2ef5d1",
   "metadata": {},
   "outputs": [
    {
     "name": "stdout",
     "output_type": "stream",
     "text": [
      "Fri Feb 10 06:19:27 2023       \n",
      "+-----------------------------------------------------------------------------+\n",
      "| NVIDIA-SMI 515.48.07    Driver Version: 515.48.07    CUDA Version: 11.7     |\n",
      "|-------------------------------+----------------------+----------------------+\n",
      "| GPU  Name        Persistence-M| Bus-Id        Disp.A | Volatile Uncorr. ECC |\n",
      "| Fan  Temp  Perf  Pwr:Usage/Cap|         Memory-Usage | GPU-Util  Compute M. |\n",
      "|                               |                      |               MIG M. |\n",
      "|===============================+======================+======================|\n",
      "|   0  Tesla V100-PCIE...  Off  | 00000000:3B:00.0 Off |                    0 |\n",
      "| N/A   28C    P0    35W / 250W |   3268MiB / 16384MiB |      0%      Default |\n",
      "|                               |                      |                  N/A |\n",
      "+-------------------------------+----------------------+----------------------+\n",
      "|   1  Tesla V100-PCIE...  Off  | 00000000:D8:00.0 Off |                    0 |\n",
      "| N/A   26C    P0    24W / 250W |     49MiB / 16384MiB |      0%      Default |\n",
      "|                               |                      |                  N/A |\n",
      "+-------------------------------+----------------------+----------------------+\n",
      "                                                                               \n",
      "+-----------------------------------------------------------------------------+\n",
      "| Processes:                                                                  |\n",
      "|  GPU   GI   CI        PID   Type   Process name                  GPU Memory |\n",
      "|        ID   ID                                                   Usage      |\n",
      "|=============================================================================|\n",
      "|    0   N/A  N/A      4527      G   /usr/libexec/Xorg                  22MiB |\n",
      "|    0   N/A  N/A      5483      G   /usr/libexec/Xorg                  63MiB |\n",
      "|    0   N/A  N/A      5634      G   /usr/bin/gnome-shell               39MiB |\n",
      "|    0   N/A  N/A   2407394      C   ...haslr63w7hj6in/bin/python     1713MiB |\n",
      "|    0   N/A  N/A   2409492      C   ...haslr63w7hj6in/bin/python     1425MiB |\n",
      "|    1   N/A  N/A      4527      G   /usr/libexec/Xorg                  22MiB |\n",
      "|    1   N/A  N/A      5483      G   /usr/libexec/Xorg                  22MiB |\n",
      "+-----------------------------------------------------------------------------+\n"
     ]
    }
   ],
   "source": [
    "!nvidia-smi"
   ]
  },
  {
   "cell_type": "code",
   "execution_count": 2,
   "id": "a6f1a7f6-94b4-4141-a2c4-87b99db8caad",
   "metadata": {},
   "outputs": [
    {
     "name": "stdout",
     "output_type": "stream",
     "text": [
      "Defaulting to user installation because normal site-packages is not writeable\n",
      "Requirement already satisfied: torchvision==0.9.1 in ./.local/lib/python3.9/site-packages (0.9.1)\n",
      "Requirement already satisfied: torch==1.8.1 in ./.local/lib/python3.9/site-packages (from torchvision==0.9.1) (1.8.1)\n",
      "Requirement already satisfied: numpy in /software/spackages/linux-rocky8-x86_64/gcc-9.5.0/anaconda3-2022.05-zyrazrj6uvrtukupqzhaslr63w7hj6in/lib/python3.9/site-packages (from torchvision==0.9.1) (1.21.5)\n",
      "Requirement already satisfied: pillow>=4.1.1 in /software/spackages/linux-rocky8-x86_64/gcc-9.5.0/anaconda3-2022.05-zyrazrj6uvrtukupqzhaslr63w7hj6in/lib/python3.9/site-packages (from torchvision==0.9.1) (9.0.1)\n",
      "Requirement already satisfied: typing-extensions in /software/spackages/linux-rocky8-x86_64/gcc-9.5.0/anaconda3-2022.05-zyrazrj6uvrtukupqzhaslr63w7hj6in/lib/python3.9/site-packages (from torch==1.8.1->torchvision==0.9.1) (4.1.1)\n",
      "Defaulting to user installation because normal site-packages is not writeable\n",
      "Requirement already satisfied: tqdm in /software/spackages/linux-rocky8-x86_64/gcc-9.5.0/anaconda3-2022.05-zyrazrj6uvrtukupqzhaslr63w7hj6in/lib/python3.9/site-packages (4.64.0)\n"
     ]
    }
   ],
   "source": [
    "!pip install torchvision==0.9.1\n",
    "!pip install tqdm"
   ]
  },
  {
   "cell_type": "code",
   "execution_count": 1,
   "id": "b173a188-2476-4767-b75d-ae00b64f36dd",
   "metadata": {},
   "outputs": [],
   "source": [
    "import torch\n",
    "import numpy as np\n",
    "import torch.nn as nn\n",
    "from torchvision import datasets\n",
    "import torchvision.transforms as transforms\n",
    "from torch.utils.data.sampler import SubsetRandomSampler\n",
    "import torch.nn.functional as F\n",
    "import matplotlib.pyplot as plt\n",
    "import torch.optim as optim\n",
    "from sklearn.decomposition import PCA"
   ]
  },
  {
   "cell_type": "code",
   "execution_count": 2,
   "id": "03df2faa-4d94-4ee3-9185-79312603f221",
   "metadata": {},
   "outputs": [],
   "source": [
    "train_on_gpu = torch.cuda.is_available()"
   ]
  },
  {
   "cell_type": "code",
   "execution_count": 3,
   "id": "76b2e75d-9c31-460a-9d20-30cf016ccb09",
   "metadata": {},
   "outputs": [
    {
     "name": "stdout",
     "output_type": "stream",
     "text": [
      "Files already downloaded and verified\n",
      "Files already downloaded and verified\n",
      "debug 2.....\n"
     ]
    }
   ],
   "source": [
    "nw = 0\n",
    "bs = 64\n",
    "vsize = 0.2\n",
    "\n",
    "transform = transforms.Compose([transforms.ToTensor(),transforms.Normalize((0.5, 0.5, 0.5), (0.5, 0.5, 0.5))])\n",
    "\n",
    "td = datasets.CIFAR10('data', train=True, download=True, transform=transform)\n",
    "testd = datasets.CIFAR10('data', train=False, download=True, transform=transform)\n",
    "\n",
    "tl = len(td)\n",
    "i = list(range(tl))\n",
    "np.random.shuffle(i)\n",
    "split = int(np.floor(vsize * tl))\n",
    "ti, vi = i[split:], i[:split]\n",
    "\n",
    "training_data = SubsetRandomSampler(ti)\n",
    "validation_data = SubsetRandomSampler(vi)\n",
    "\n",
    "train_loader = torch.utils.data.DataLoader(td, batch_size=bs,\n",
    "    sampler=training_data, num_workers=nw)\n",
    "valid_loader = torch.utils.data.DataLoader(td, batch_size=bs, \n",
    "    sampler=validation_data, num_workers=nw)\n",
    "test_loader = torch.utils.data.DataLoader(testd, batch_size=bs, \n",
    "    num_workers=nw)\n",
    "\n",
    "\n",
    "classes = ['airplane', 'automobile', 'bird', 'cat', 'deer',\n",
    "           'dog', 'frog', 'horse', 'ship', 'truck']\n",
    "print('debug 2.....')\n"
   ]
  },
  {
   "cell_type": "code",
   "execution_count": null,
   "id": "000c5234-f58a-45d8-804b-bc5daa801cf7",
   "metadata": {},
   "outputs": [],
   "source": []
  },
  {
   "cell_type": "code",
   "execution_count": 57,
   "id": "8cb43255-d6cb-4cba-a212-5226838cdbc4",
   "metadata": {},
   "outputs": [],
   "source": [
    "class Model1 (nn.Module):\n",
    "    def __init__(self):\n",
    "        super().__init__()\n",
    "        self.fc1 = nn.Linear(32 * 32 * 3, 256)\n",
    "        self.fc2 = nn.Linear(256, 128)\n",
    "        self.fc3 = nn.Linear(128, 10)\n",
    "\n",
    "    def forward(self, val):\n",
    "        val = val.view(-1, 32 * 32 * 3)\n",
    "        val = F.relu(self.fc1(val))\n",
    "        val = F.relu(self.fc2(val))\n",
    "        val = self.fc3(val)\n",
    "        return val\n",
    "    \n",
    "class Model2 (nn.Module):\n",
    "    def __init__(self):\n",
    "        super().__init__()\n",
    "        self.fc1 = nn.Linear(32 * 32 * 3, 512)\n",
    "        self.fc2 = nn.Linear(512, 256)\n",
    "        self.fc3 = nn.Linear(256, 10)\n",
    "\n",
    "    def forward(self, val):\n",
    "        val = val.view(-1, 32 * 32 * 3)\n",
    "        val = F.relu(self.fc1(val))\n",
    "        val = F.relu(self.fc2(val))\n",
    "        val = self.fc3(val)\n",
    "        return val\n",
    "\n",
    "class Model3 (nn.Module):\n",
    "    def __init__(self):\n",
    "        super().__init__()\n",
    "        self.fc1 = nn.Linear(32 * 32 * 3, 512)\n",
    "        self.fc2 = nn.Linear(512, 512)\n",
    "        self.fc3 = nn.Linear(512, 10)\n",
    "\n",
    "    def forward(self, val):\n",
    "        val = val.view(-1, 32 * 32 * 3)\n",
    "        val = F.relu(self.fc1(val))\n",
    "        val = F.relu(self.fc2(val))\n",
    "        val = self.fc3(val)\n",
    "        return val\n",
    "\n",
    "class Model4 (nn.Module):\n",
    "    def __init__(self):\n",
    "        super().__init__()\n",
    "        self.fc1 = nn.Linear(32 * 32 * 3, 1024)\n",
    "        self.fc2 = nn.Linear(1024, 512)\n",
    "        self.fc3 = nn.Linear(512, 10)\n",
    "\n",
    "    def forward(self, val):\n",
    "        val = val.view(-1, 32 * 32 * 3)\n",
    "        val = F.relu(self.fc1(val))\n",
    "        val = F.relu(self.fc2(val))\n",
    "        val = self.fc3(val)\n",
    "        return val\n",
    "\n",
    "    \n",
    "class Model5 (nn.Module):\n",
    "    def __init__(self):\n",
    "        super().__init__()\n",
    "        self.fc1 = nn.Linear(32 * 32 * 3, 128)\n",
    "        self.fc2 = nn.Linear(128, 64)\n",
    "        self.fc3 = nn.Linear(64, 10)\n",
    "\n",
    "    def forward(self, val):\n",
    "        val = val.view(-1, 32 * 32 * 3)\n",
    "        val = F.relu(self.fc1(val))\n",
    "        val = F.relu(self.fc2(val))\n",
    "        val = self.fc3(val)\n",
    "        return val\n",
    "    \n",
    "class Model6 (nn.Module):\n",
    "    def __init__(self):\n",
    "        super().__init__()\n",
    "        self.fc1 = nn.Linear(32 * 32 * 3, 128)\n",
    "        self.fc2 = nn.Linear(128, 128)\n",
    "        self.fc3 = nn.Linear(128, 10)\n",
    "\n",
    "    def forward(self, val):\n",
    "        val = val.view(-1, 32 * 32 * 3)\n",
    "        val = F.relu(self.fc1(val))\n",
    "        val = F.relu(self.fc2(val))\n",
    "        val = self.fc3(val)\n",
    "        return val\n",
    "\n",
    "class Model7 (nn.Module):\n",
    "    def __init__(self):\n",
    "        super().__init__()\n",
    "        self.fc1 = nn.Linear(32 * 32 * 3, 1024)\n",
    "        self.fc2 = nn.Linear(1024, 512)\n",
    "        self.fc3 = nn.Linear(512, 256)\n",
    "        self.fc4 = nn.Linear(256, 10)\n",
    "\n",
    "    def forward(self, val):\n",
    "        val = val.view(-1, 32 * 32 * 3)\n",
    "        val = F.relu(self.fc1(val))\n",
    "        val = F.relu(self.fc2(val))\n",
    "        val = F.relu(self.fc3(val))\n",
    "        val = self.fc4(val)\n",
    "        return val\n",
    "\n",
    "class Model8 (nn.Module):\n",
    "    def __init__(self):\n",
    "        super().__init__()\n",
    "        self.fc1 = nn.Linear(32 * 32 * 3, 2048)\n",
    "        self.fc2 = nn.Linear(2048, 1024)\n",
    "        self.fc3 = nn.Linear(1024, 10)\n",
    "\n",
    "    def forward(self, val):\n",
    "        val = val.view(-1, 32 * 32 * 3)\n",
    "        val = F.relu(self.fc1(val))\n",
    "        val = F.relu(self.fc2(val))\n",
    "        val = self.fc3(val)\n",
    "        return val\n",
    "\n",
    "class Model9 (nn.Module):\n",
    "    def __init__(self):\n",
    "        super().__init__()\n",
    "        self.fc1 = nn.Linear(32 * 32 * 3, 4096)\n",
    "        self.fc2 = nn.Linear(4096, 2048)\n",
    "        self.fc3 = nn.Linear(2048, 10)\n",
    "\n",
    "    def forward(self, val):\n",
    "        val = val.view(-1, 32 * 32 * 3)\n",
    "        val = F.relu(self.fc1(val))\n",
    "        val = F.relu(self.fc2(val))\n",
    "        val = self.fc3(val)\n",
    "        return val\n",
    "\n",
    "class Model10 (nn.Module):\n",
    "    def __init__(self):\n",
    "        super().__init__()\n",
    "        self.fc1 = nn.Linear(32 * 32 * 3, 4096)\n",
    "        self.fc2 = nn.Linear(4096, 2048)\n",
    "        self.fc3 = nn.Linear(2048, 10)\n",
    "\n",
    "    def forward(self, val):\n",
    "        val = val.view(-1, 32 * 32 * 3)\n",
    "        val = F.relu(self.fc1(val))\n",
    "        val = F.relu(self.fc2(val))\n",
    "        val = self.fc3(val)\n",
    "        return val"
   ]
  },
  {
   "cell_type": "code",
   "execution_count": 60,
   "id": "8850c101-4d82-4429-aaf3-6de391dc0b17",
   "metadata": {},
   "outputs": [],
   "source": [
    "def num_params(model):\n",
    "    return sum(p.numel() for p in model.parameters())"
   ]
  },
  {
   "cell_type": "code",
   "execution_count": 59,
   "id": "166c5489-e22d-49ec-988d-ab4a2167ac91",
   "metadata": {},
   "outputs": [],
   "source": [
    "device = torch.device(\"cuda:0\" if torch.cuda.is_available() else \"cpu\")"
   ]
  },
  {
   "cell_type": "code",
   "execution_count": 55,
   "id": "d3f63db0-db56-4ee8-b076-02e47519eec5",
   "metadata": {},
   "outputs": [],
   "source": [
    "training_losses = []\n",
    "test_losses = []\n",
    "param=[]\n",
    "test_acc = []\n",
    "train_acc=[]\n",
    "def train_model(model):\n",
    "    for epoch in range(20):\n",
    "        running_loss = 0.0\n",
    "        correct1 = 0\n",
    "        total1 = 0\n",
    "        model.train()\n",
    "        \n",
    "        for i, data in enumerate(train_loader, 0):\n",
    "            inputs, labels = data\n",
    "            inputs, labels = inputs.to(device), labels.to(device)\n",
    "            optimizer.zero_grad()\n",
    "            outputs = model(inputs)\n",
    "            loss = criterion(outputs, labels)\n",
    "            loss.backward()\n",
    "            optimizer.step()\n",
    "            _, predicted = torch.max(outputs.data, 1)\n",
    "            total1 += labels.size(0)\n",
    "            correct1 += (predicted == labels).sum().item()\n",
    "            running_loss += loss.item()\n",
    "        \n",
    "        training_loss = running_loss / len(train_loader)\n",
    "        accuracy1 = round( correct1 / total1,3)\n",
    "    \n",
    "        test_loss = 0.0\n",
    "        correct = 0\n",
    "        total = 0\n",
    "        with torch.no_grad():\n",
    "            for data in test_loader:\n",
    "                inputs, labels = data\n",
    "                inputs, labels = inputs.to(device), labels.to(device)\n",
    "                outputs = model(inputs)\n",
    "                loss = criterion(outputs, labels)\n",
    "                test_loss += loss.item()\n",
    "                _, predicted = torch.max(outputs.data, 1)\n",
    "                total += labels.size(0)\n",
    "                correct += (predicted == labels).sum().item()\n",
    "            \n",
    "        test_loss /= len(test_loader)\n",
    "        accuracy = round( correct / total,3)\n",
    "    training_losses.append(training_loss)\n",
    "    train_acc.append(accuracy1)\n",
    "    test_losses.append(test_loss)\n",
    "    test_acc.append(accuracy)\n",
    "    param.append(num_params(model))\n",
    "    print('Epoch: {} Training Loss: {:.4f} Test Loss: {:.4f}'.format(epoch, training_loss, test_loss))\n",
    "    print('Epoch: {} Training acc: {:.4f} Test acc: {:.4f}'.format(epoch, accuracy1, accuracy))"
   ]
  },
  {
   "cell_type": "code",
   "execution_count": 61,
   "id": "e63aba42-7fd6-4e20-b4cb-c79c904f54c1",
   "metadata": {},
   "outputs": [
    {
     "name": "stdout",
     "output_type": "stream",
     "text": [
      "Model 1 parameters:  820874\n",
      "Epoch: 19 Training Loss: 1.1886 Test Loss: 1.3488\n",
      "Epoch: 19 Training acc: 0.5880 Test acc: 0.5280\n"
     ]
    }
   ],
   "source": [
    "model1 = Model1()\n",
    "print(\"Model 1 parameters: \", (num_params(model1)))\n",
    "if train_on_gpu:\n",
    "  model1.cuda()\n",
    "criterion = nn.CrossEntropyLoss()\n",
    "optimizer = torch.optim.SGD(model1.parameters(), lr=0.001, weight_decay = 0.005, momentum = 0.9) \n",
    "train_model(model1)"
   ]
  },
  {
   "cell_type": "code",
   "execution_count": 62,
   "id": "b46236ad-ecbf-4ed9-a0a2-748ee7b5b58b",
   "metadata": {},
   "outputs": [
    {
     "name": "stdout",
     "output_type": "stream",
     "text": [
      "Model 2 parameters:  1707274\n",
      "Epoch: 19 Training Loss: 1.1519 Test Loss: 1.3355\n",
      "Epoch: 19 Training acc: 0.6030 Test acc: 0.5310\n"
     ]
    }
   ],
   "source": [
    "model2 = Model2()\n",
    "torch.manual_seed(1)\n",
    "print(\"Model 2 parameters: \", (num_params(model2)))\n",
    "if train_on_gpu:\n",
    "  model2.cuda()\n",
    "criterion = nn.CrossEntropyLoss()\n",
    "optimizer = torch.optim.SGD(model2.parameters(), lr=0.001, weight_decay = 0.005, momentum = 0.9) \n",
    "train_model(model2)"
   ]
  },
  {
   "cell_type": "code",
   "execution_count": 63,
   "id": "b0233752-4cf1-4f0a-bf4a-d3eb55dd0a1d",
   "metadata": {},
   "outputs": [
    {
     "name": "stdout",
     "output_type": "stream",
     "text": [
      "Model 3 parameters:  1841162\n",
      "Epoch: 19 Training Loss: 1.1453 Test Loss: 1.3288\n",
      "Epoch: 19 Training acc: 0.6080 Test acc: 0.5330\n"
     ]
    }
   ],
   "source": [
    "model3 = Model3()\n",
    "torch.manual_seed(1)\n",
    "print(\"Model 3 parameters: \", (num_params(model3)))\n",
    "if train_on_gpu:\n",
    "  model3.cuda()\n",
    "criterion = nn.CrossEntropyLoss()\n",
    "optimizer = torch.optim.SGD(model3.parameters(), lr=0.001, weight_decay = 0.005, momentum = 0.9) \n",
    "train_model(model3)"
   ]
  },
  {
   "cell_type": "code",
   "execution_count": 64,
   "id": "f25ae1a1-ecb9-4b6d-8705-5749e4879809",
   "metadata": {},
   "outputs": [
    {
     "name": "stdout",
     "output_type": "stream",
     "text": [
      "Model 4 parameters:  3676682\n",
      "Epoch: 19 Training Loss: 1.1154 Test Loss: 1.3204\n",
      "Epoch: 19 Training acc: 0.6170 Test acc: 0.5390\n"
     ]
    }
   ],
   "source": [
    "model4 = Model4()\n",
    "torch.manual_seed(1)\n",
    "print(\"Model 4 parameters: \", (num_params(model4)))\n",
    "if train_on_gpu:\n",
    "  model4.cuda()\n",
    "criterion = nn.CrossEntropyLoss()\n",
    "optimizer = torch.optim.SGD(model4.parameters(), lr=0.001, weight_decay = 0.005, momentum = 0.9) \n",
    "train_model(model4)"
   ]
  },
  {
   "cell_type": "code",
   "execution_count": 65,
   "id": "3b3fce0b-fc60-4f7d-b5f2-ba55b5bc6ea6",
   "metadata": {},
   "outputs": [
    {
     "name": "stdout",
     "output_type": "stream",
     "text": [
      "Model 5 parameters:  402250\n",
      "Epoch: 19 Training Loss: 1.2374 Test Loss: 1.3718\n",
      "Epoch: 19 Training acc: 0.5710 Test acc: 0.5140\n"
     ]
    }
   ],
   "source": [
    "model5 = Model5()\n",
    "torch.manual_seed(1)\n",
    "print(\"Model 5 parameters: \", (num_params(model5)))\n",
    "if train_on_gpu:\n",
    "  model5.cuda()\n",
    "criterion = nn.CrossEntropyLoss()\n",
    "optimizer = torch.optim.SGD(model5.parameters(), lr=0.001, weight_decay = 0.005, momentum = 0.9) \n",
    "train_model(model5)"
   ]
  },
  {
   "cell_type": "code",
   "execution_count": 66,
   "id": "f41d2023-0318-41c3-ae51-d015f0938b48",
   "metadata": {},
   "outputs": [
    {
     "name": "stdout",
     "output_type": "stream",
     "text": [
      "Model 6 parameters:  411146\n",
      "Epoch: 19 Training Loss: 1.2423 Test Loss: 1.3742\n",
      "Epoch: 19 Training acc: 0.5700 Test acc: 0.5170\n"
     ]
    }
   ],
   "source": [
    "model6 = Model6()\n",
    "torch.manual_seed(1)\n",
    "print(\"Model 6 parameters: \", (num_params(model6)))\n",
    "if train_on_gpu:\n",
    "  model6.cuda()\n",
    "criterion = nn.CrossEntropyLoss()\n",
    "optimizer = torch.optim.SGD(model6.parameters(), lr=0.001, weight_decay = 0.005, momentum = 0.9) \n",
    "train_model(model6)"
   ]
  },
  {
   "cell_type": "code",
   "execution_count": 67,
   "id": "01ba4ed1-5157-4c27-a43e-7d1a2fa2db62",
   "metadata": {},
   "outputs": [
    {
     "name": "stdout",
     "output_type": "stream",
     "text": [
      "Model 7 parameters:  3805450\n",
      "Epoch: 19 Training Loss: 1.0995 Test Loss: 1.3425\n",
      "Epoch: 19 Training acc: 0.6140 Test acc: 0.5290\n"
     ]
    }
   ],
   "source": [
    "model7 = Model7()\n",
    "torch.manual_seed(1)\n",
    "print(\"Model 7 parameters: \", (num_params(model7)))\n",
    "if train_on_gpu:\n",
    "  model7.cuda()\n",
    "criterion = nn.CrossEntropyLoss()\n",
    "optimizer = torch.optim.SGD(model7.parameters(), lr=0.001, weight_decay = 0.005, momentum = 0.9) \n",
    "train_model(model7)"
   ]
  },
  {
   "cell_type": "code",
   "execution_count": 68,
   "id": "b630cbac-c65d-4f28-84c3-27c71b1cf63c",
   "metadata": {},
   "outputs": [
    {
     "name": "stdout",
     "output_type": "stream",
     "text": [
      "Model 8 parameters:  8401930\n",
      "Epoch: 19 Training Loss: 1.0795 Test Loss: 1.3115\n",
      "Epoch: 19 Training acc: 0.6330 Test acc: 0.5370\n"
     ]
    }
   ],
   "source": [
    "model8 = Model8()\n",
    "torch.manual_seed(1)\n",
    "print(\"Model 8 parameters: \", (num_params(model8)))\n",
    "if train_on_gpu:\n",
    "  model8.cuda()\n",
    "criterion = nn.CrossEntropyLoss()\n",
    "optimizer = torch.optim.SGD(model8.parameters(), lr=0.001, weight_decay = 0.005, momentum = 0.9) \n",
    "train_model(model8)"
   ]
  },
  {
   "cell_type": "code",
   "execution_count": 69,
   "id": "bf71a12f-6cd4-4c8e-81cf-45f0fc8b898f",
   "metadata": {},
   "outputs": [
    {
     "name": "stdout",
     "output_type": "stream",
     "text": [
      "Model 9 parameters:  20998154\n",
      "Epoch: 19 Training Loss: 1.0382 Test Loss: 1.3044\n",
      "Epoch: 19 Training acc: 0.6500 Test acc: 0.5420\n"
     ]
    }
   ],
   "source": [
    "model9 = Model9()\n",
    "torch.manual_seed(1)\n",
    "print(\"Model 9 parameters: \", (num_params(model9)))\n",
    "if train_on_gpu:\n",
    "  model9.cuda()\n",
    "criterion = nn.CrossEntropyLoss()\n",
    "optimizer = torch.optim.SGD(model9.parameters(), lr=0.001, weight_decay = 0.005, momentum = 0.9) \n",
    "train_model(model9)"
   ]
  },
  {
   "cell_type": "code",
   "execution_count": 70,
   "id": "5fb68fab-c998-4ed8-96e9-915f8f15d5d9",
   "metadata": {},
   "outputs": [
    {
     "name": "stdout",
     "output_type": "stream",
     "text": [
      "Model 10 parameters:  20998154\n",
      "Epoch: 19 Training Loss: 1.0382 Test Loss: 1.3044\n",
      "Epoch: 19 Training acc: 0.6500 Test acc: 0.5420\n"
     ]
    }
   ],
   "source": [
    "model10 = Model10()\n",
    "torch.manual_seed(1)\n",
    "print(\"Model 10 parameters: \", (num_params(model10)))\n",
    "if train_on_gpu:\n",
    "  model10.cuda()\n",
    "criterion = nn.CrossEntropyLoss()\n",
    "optimizer = torch.optim.SGD(model10.parameters(), lr=0.001, weight_decay = 0.005, momentum = 0.9) \n",
    "train_model(model10)"
   ]
  },
  {
   "cell_type": "code",
   "execution_count": 71,
   "id": "160f69b6-3120-4669-83a6-6ed62d624e8a",
   "metadata": {},
   "outputs": [
    {
     "name": "stdout",
     "output_type": "stream",
     "text": [
      "10\n"
     ]
    },
    {
     "data": {
      "image/png": "[encoded data removed]",
      "text/plain": [
       "<Figure size 864x432 with 1 Axes>"
      ]
     },
     "metadata": {
      "needs_background": "light"
     },
     "output_type": "display_data"
    }
   ],
   "source": [
    "plt.figure(figsize=(12,6))\n",
    "print(len(param))\n",
    "plt.scatter(param, training_losses, color = \"r\")\n",
    "plt.scatter(param, test_losses, color = \"g\")\n",
    "plt.title('Model Loss Comparision')\n",
    "plt.legend(['Train Loss', 'Test Loss'])\n",
    "plt.xlabel('Parameters')\n",
    "plt.ylabel('Loss')\n",
    "plt.show()"
   ]
  },
  {
   "cell_type": "code",
   "execution_count": null,
   "id": "254b995e-bddb-4404-89eb-c8e731db18ee",
   "metadata": {},
   "outputs": [
    {
     "name": "stdout",
     "output_type": "stream",
     "text": [
      "10\n"
     ]
    },
    {
     "data": {
      "image/png": "[encoded data removed]",
      "text/plain": [
       "<Figure size 864x432 with 1 Axes>"
      ]
     },
     "metadata": {
      "needs_background": "light"
     },
     "output_type": "display_data"
    }
   ],
   "source": [
    "plt.figure(figsize=(12,6))\n",
    "print(len(param))\n",
    "plt.scatter(param, train_acc, color = \"r\")\n",
    "plt.scatter(param, test_acc, color = \"g\")\n",
    "plt.title('Model Loss Comparision')\n",
    "plt.legend(['Train Loss', 'Test Loss'])\n",
    "plt.xlabel('Parameters')\n",
    "plt.ylabel('Loss')\n",
    "plt.show()"
   ]
  }
 ],
 "metadata": {
  "kernelspec": {
   "display_name": "Python 3 (ipykernel)",
   "language": "python",
   "name": "python3"
  },
  "language_info": {
   "codemirror_mode": {
    "name": "ipython",
    "version": 3
   },
   "file_extension": ".py",
   "mimetype": "text/x-python",
   "name": "python",
   "nbconvert_exporter": "python",
   "pygments_lexer": "ipython3",
   "version": "3.9.12"
  }
 },
 "nbformat": 4,
 "nbformat_minor": 5
}
