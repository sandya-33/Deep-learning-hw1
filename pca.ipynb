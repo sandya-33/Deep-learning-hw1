{
 "cells": [
  {
   "cell_type": "code",
   "execution_count": null,
   "id": "540f6183-e446-4794-adba-dc3f9f1eaa18",
   "metadata": {},
   "outputs": [],
   "source": [
    "# outputs includes whole 1-1 part and 1-2-1, 1-2-2"
   ]
  },
  {
   "cell_type": "code",
   "execution_count": 1,
   "id": "005a898a-93ff-40d5-a0d7-1706f50ef302",
   "metadata": {},
   "outputs": [
    {
     "name": "stdout",
     "output_type": "stream",
     "text": [
      "Thu Feb  9 00:26:44 2023       \n",
      "+-----------------------------------------------------------------------------+\n",
      "| NVIDIA-SMI 515.48.07    Driver Version: 515.48.07    CUDA Version: 11.7     |\n",
      "|-------------------------------+----------------------+----------------------+\n",
      "| GPU  Name        Persistence-M| Bus-Id        Disp.A | Volatile Uncorr. ECC |\n",
      "| Fan  Temp  Perf  Pwr:Usage/Cap|         Memory-Usage | GPU-Util  Compute M. |\n",
      "|                               |                      |               MIG M. |\n",
      "|===============================+======================+======================|\n",
      "|   0  Tesla V100-PCIE...  Off  | 00000000:3B:00.0 Off |                    0 |\n",
      "| N/A   26C    P0    23W / 250W |    126MiB / 16384MiB |      0%      Default |\n",
      "|                               |                      |                  N/A |\n",
      "+-------------------------------+----------------------+----------------------+\n",
      "|   1  Tesla V100-PCIE...  Off  | 00000000:D8:00.0 Off |                    0 |\n",
      "| N/A   26C    P0    24W / 250W |     45MiB / 16384MiB |      0%      Default |\n",
      "|                               |                      |                  N/A |\n",
      "+-------------------------------+----------------------+----------------------+\n",
      "                                                                               \n",
      "+-----------------------------------------------------------------------------+\n",
      "| Processes:                                                                  |\n",
      "|  GPU   GI   CI        PID   Type   Process name                  GPU Memory |\n",
      "|        ID   ID                                                   Usage      |\n",
      "|=============================================================================|\n",
      "|    0   N/A  N/A      4527      G   /usr/libexec/Xorg                  22MiB |\n",
      "|    0   N/A  N/A      5483      G   /usr/libexec/Xorg                  63MiB |\n",
      "|    0   N/A  N/A      5634      G   /usr/bin/gnome-shell               38MiB |\n",
      "|    1   N/A  N/A      4527      G   /usr/libexec/Xorg                  22MiB |\n",
      "|    1   N/A  N/A      5483      G   /usr/libexec/Xorg                  22MiB |\n",
      "+-----------------------------------------------------------------------------+\n"
     ]
    }
   ],
   "source": [
    "!nvidia-smi"
   ]
  },
  {
   "cell_type": "code",
   "execution_count": 2,
   "id": "538b8421-2814-40cc-9836-6e12a2ad4b36",
   "metadata": {},
   "outputs": [
    {
     "name": "stdout",
     "output_type": "stream",
     "text": [
      "Defaulting to user installation because normal site-packages is not writeable\n",
      "Requirement already satisfied: torchvision==0.9.1 in ./.local/lib/python3.9/site-packages (0.9.1)\n",
      "Requirement already satisfied: pillow>=4.1.1 in /software/spackages/linux-rocky8-x86_64/gcc-9.5.0/anaconda3-2022.05-zyrazrj6uvrtukupqzhaslr63w7hj6in/lib/python3.9/site-packages (from torchvision==0.9.1) (9.0.1)\n",
      "Requirement already satisfied: numpy in /software/spackages/linux-rocky8-x86_64/gcc-9.5.0/anaconda3-2022.05-zyrazrj6uvrtukupqzhaslr63w7hj6in/lib/python3.9/site-packages (from torchvision==0.9.1) (1.21.5)\n",
      "Requirement already satisfied: torch==1.8.1 in ./.local/lib/python3.9/site-packages (from torchvision==0.9.1) (1.8.1)\n",
      "Requirement already satisfied: typing-extensions in /software/spackages/linux-rocky8-x86_64/gcc-9.5.0/anaconda3-2022.05-zyrazrj6uvrtukupqzhaslr63w7hj6in/lib/python3.9/site-packages (from torch==1.8.1->torchvision==0.9.1) (4.1.1)\n",
      "Defaulting to user installation because normal site-packages is not writeable\n",
      "Requirement already satisfied: tqdm in /software/spackages/linux-rocky8-x86_64/gcc-9.5.0/anaconda3-2022.05-zyrazrj6uvrtukupqzhaslr63w7hj6in/lib/python3.9/site-packages (4.64.0)\n"
     ]
    }
   ],
   "source": [
    "!pip install torchvision==0.9.1\n",
    "!pip install tqdm\n"
   ]
  },
  {
   "cell_type": "code",
   "execution_count": 2,
   "id": "35437ac4-7371-47fc-b857-1e371b16b04b",
   "metadata": {},
   "outputs": [],
   "source": [
    "import torch\n",
    "import numpy as np\n",
    "import torch.nn as nn\n",
    "from torchvision import datasets\n",
    "import torchvision.transforms as transforms\n",
    "from torch.utils.data.sampler import SubsetRandomSampler\n",
    "import torch.nn.functional as F\n",
    "import matplotlib.pyplot as plt\n",
    "import torch.optim as optim\n",
    "from sklearn.decomposition import PCA"
   ]
  },
  {
   "cell_type": "code",
   "execution_count": 17,
   "id": "2ebbc0b1-8600-4466-89e3-1b718b79aa6b",
   "metadata": {},
   "outputs": [],
   "source": [
    "train_on_gpu = torch.cuda.is_available()\n",
    "device = torch.device(\"cuda:0\" if torch.cuda.is_available() else \"cpu\")"
   ]
  },
  {
   "cell_type": "code",
   "execution_count": 4,
   "id": "7498f1b3-a615-4010-b1fb-60b303305949",
   "metadata": {},
   "outputs": [
    {
     "name": "stdout",
     "output_type": "stream",
     "text": [
      "Files already downloaded and verified\n",
      "Files already downloaded and verified\n",
      "debug 2.....\n"
     ]
    }
   ],
   "source": [
    "nw = 0\n",
    "bs = 64\n",
    "vsize = 0.2\n",
    "\n",
    "transform = transforms.Compose([transforms.ToTensor(),transforms.Normalize((0.5, 0.5, 0.5), (0.5, 0.5, 0.5))])\n",
    "\n",
    "td = datasets.CIFAR10('data', train=True, download=True, transform=transform)\n",
    "testd = datasets.CIFAR10('data', train=False, download=True, transform=transform)\n",
    "\n",
    "tl = len(td)\n",
    "i = list(range(tl))\n",
    "np.random.shuffle(i)\n",
    "split = int(np.floor(vsize * tl))\n",
    "ti, vi = i[split:], i[:split]\n",
    "\n",
    "training_data = SubsetRandomSampler(ti)\n",
    "validation_data = SubsetRandomSampler(vi)\n",
    "\n",
    "train_loader = torch.utils.data.DataLoader(td, batch_size=bs,\n",
    "    sampler=training_data, num_workers=nw)\n",
    "valid_loader = torch.utils.data.DataLoader(td, batch_size=bs, \n",
    "    sampler=validation_data, num_workers=nw)\n",
    "test_loader = torch.utils.data.DataLoader(testd, batch_size=bs, \n",
    "    num_workers=nw)\n",
    "\n",
    "\n",
    "classes = ['airplane', 'automobile', 'bird', 'cat', 'deer',\n",
    "           'dog', 'frog', 'horse', 'ship', 'truck']\n",
    "print('debug 2.....')\n"
   ]
  },
  {
   "cell_type": "code",
   "execution_count": 5,
   "id": "d19ea19e-4532-477f-9f07-52d68bace27e",
   "metadata": {},
   "outputs": [],
   "source": [
    "class Net(nn.Module):\n",
    "    def __init__(self):\n",
    "        super(Net, self).__init__()\n",
    "        # convolutional layer\n",
    "        self.conv1 = nn.Conv2d(3, 16, 3, padding=1)\n",
    "        self.conv2 = nn.Conv2d(16, 32, 3, padding=1)\n",
    "        self.conv3 = nn.Conv2d(32, 64, 3, padding=1)\n",
    "        # max pooling layer\n",
    "        self.pool = nn.MaxPool2d(2, 2)\n",
    "        # fully connected layers\n",
    "        self.fc1 = nn.Linear(64 * 4 * 4, 512)\n",
    "        self.fc2 = nn.Linear(512, 64)\n",
    "        self.fc3 = nn.Linear(64, 10)\n",
    "        # dropout\n",
    "        self.dropout = nn.Dropout(p=.5)\n",
    "\n",
    "    def forward(self, x):\n",
    "        # add sequence of convolutional and max pooling layers\n",
    "        x = self.pool(F.relu(self.conv1(x)))\n",
    "        x = self.pool(F.relu(self.conv2(x)))\n",
    "        x = self.pool(F.relu(self.conv3(x)))\n",
    "        # flattening\n",
    "        x = x.view(-1, 64 * 4 * 4)\n",
    "        # fully connected layers\n",
    "        x = self.dropout(F.relu(self.fc1(x)))\n",
    "        x = self.dropout(F.relu(self.fc2(x)))\n",
    "        x = self.fc3(x)\n",
    "        return x"
   ]
  },
  {
   "cell_type": "code",
   "execution_count": 7,
   "id": "e96fc4f2-cd11-4acc-9be2-c665795a59d7",
   "metadata": {},
   "outputs": [
    {
     "name": "stdout",
     "output_type": "stream",
     "text": [
      "Net(\n",
      "  (conv1): Conv2d(3, 16, kernel_size=(3, 3), stride=(1, 1), padding=(1, 1))\n",
      "  (conv2): Conv2d(16, 32, kernel_size=(3, 3), stride=(1, 1), padding=(1, 1))\n",
      "  (conv3): Conv2d(32, 64, kernel_size=(3, 3), stride=(1, 1), padding=(1, 1))\n",
      "  (pool): MaxPool2d(kernel_size=2, stride=2, padding=0, dilation=1, ceil_mode=False)\n",
      "  (fc1): Linear(in_features=1024, out_features=512, bias=True)\n",
      "  (fc2): Linear(in_features=512, out_features=64, bias=True)\n",
      "  (fc3): Linear(in_features=64, out_features=10, bias=True)\n",
      "  (dropout): Dropout(p=0.5, inplace=False)\n",
      ")\n"
     ]
    }
   ],
   "source": [
    "model1 = Net()\n",
    "if train_on_gpu:\n",
    "  model1.cuda()\n",
    "criterion = nn.CrossEntropyLoss()\n",
    "optimizer = torch.optim.SGD(model1.parameters(), lr=0.01, weight_decay = 0.005, momentum = 0.9) \n",
    "print(model1)"
   ]
  },
  {
   "cell_type": "code",
   "execution_count": 38,
   "id": "89422b96-5e6e-4967-80d8-85cce4cda4c6",
   "metadata": {},
   "outputs": [
    {
     "name": "stdout",
     "output_type": "stream",
     "text": [
      "Epoch: 1 \tTraining Loss: 0.601427 \tValidation Loss: 0.145250\n",
      "Validation loss decreased (inf --> 0.145250).  Saving model ...\n",
      "Epoch: 2 \tTraining Loss: 0.606379 \tValidation Loss: 0.143673\n",
      "Validation loss decreased (0.145250 --> 0.143673).  Saving model ...\n",
      "Epoch: 3 \tTraining Loss: 0.602927 \tValidation Loss: 0.149000\n",
      "Epoch: 4 \tTraining Loss: 0.605797 \tValidation Loss: 0.148678\n",
      "Epoch: 5 \tTraining Loss: 0.608253 \tValidation Loss: 0.150658\n",
      "Epoch: 6 \tTraining Loss: 0.610592 \tValidation Loss: 0.146314\n",
      "Epoch: 7 \tTraining Loss: 0.602968 \tValidation Loss: 0.146054\n",
      "Epoch: 8 \tTraining Loss: 0.600615 \tValidation Loss: 0.159468\n",
      "Epoch: 9 \tTraining Loss: 0.609792 \tValidation Loss: 0.143969\n",
      "Epoch: 10 \tTraining Loss: 0.604620 \tValidation Loss: 0.158460\n",
      "Epoch: 11 \tTraining Loss: 0.597011 \tValidation Loss: 0.149902\n",
      "Epoch: 12 \tTraining Loss: 0.608050 \tValidation Loss: 0.145405\n",
      "Epoch: 13 \tTraining Loss: 0.595591 \tValidation Loss: 0.155291\n",
      "Epoch: 14 \tTraining Loss: 0.603008 \tValidation Loss: 0.151900\n",
      "Epoch: 15 \tTraining Loss: 0.598875 \tValidation Loss: 0.151467\n",
      "Epoch: 16 \tTraining Loss: 0.605299 \tValidation Loss: 0.145625\n",
      "Epoch: 17 \tTraining Loss: 0.602428 \tValidation Loss: 0.161242\n",
      "Epoch: 18 \tTraining Loss: 0.604698 \tValidation Loss: 0.163041\n",
      "Epoch: 19 \tTraining Loss: 0.607308 \tValidation Loss: 0.147584\n",
      "Epoch: 20 \tTraining Loss: 0.597814 \tValidation Loss: 0.146574\n",
      "Epoch: 1 \tTraining Loss: 0.600725 \tValidation Loss: 0.156305\n",
      "Validation loss decreased (inf --> 0.156305).  Saving model ...\n",
      "Epoch: 2 \tTraining Loss: 0.599670 \tValidation Loss: 0.173920\n",
      "Epoch: 3 \tTraining Loss: 0.601386 \tValidation Loss: 0.151913\n",
      "Validation loss decreased (0.156305 --> 0.151913).  Saving model ...\n",
      "Epoch: 4 \tTraining Loss: 0.601416 \tValidation Loss: 0.150956\n",
      "Validation loss decreased (0.151913 --> 0.150956).  Saving model ...\n",
      "Epoch: 5 \tTraining Loss: 0.600808 \tValidation Loss: 0.151695\n",
      "Epoch: 6 \tTraining Loss: 0.608892 \tValidation Loss: 0.169529\n",
      "Epoch: 7 \tTraining Loss: 0.604937 \tValidation Loss: 0.151115\n",
      "Epoch: 8 \tTraining Loss: 0.604591 \tValidation Loss: 0.143862\n",
      "Validation loss decreased (0.150956 --> 0.143862).  Saving model ...\n",
      "Epoch: 9 \tTraining Loss: 0.591662 \tValidation Loss: 0.152536\n",
      "Epoch: 10 \tTraining Loss: 0.603981 \tValidation Loss: 0.143202\n",
      "Validation loss decreased (0.143862 --> 0.143202).  Saving model ...\n",
      "Epoch: 11 \tTraining Loss: 0.601729 \tValidation Loss: 0.162538\n",
      "Epoch: 12 \tTraining Loss: 0.600079 \tValidation Loss: 0.152709\n",
      "Epoch: 13 \tTraining Loss: 0.601508 \tValidation Loss: 0.148634\n",
      "Epoch: 14 \tTraining Loss: 0.600431 \tValidation Loss: 0.149752\n",
      "Epoch: 15 \tTraining Loss: 0.600481 \tValidation Loss: 0.154951\n",
      "Epoch: 16 \tTraining Loss: 0.598811 \tValidation Loss: 0.158080\n",
      "Epoch: 17 \tTraining Loss: 0.599568 \tValidation Loss: 0.157822\n",
      "Epoch: 18 \tTraining Loss: 0.603422 \tValidation Loss: 0.150350\n",
      "Epoch: 19 \tTraining Loss: 0.601504 \tValidation Loss: 0.149918\n",
      "Epoch: 20 \tTraining Loss: 0.608422 \tValidation Loss: 0.148422\n",
      "Epoch: 1 \tTraining Loss: 0.605705 \tValidation Loss: 0.147756\n",
      "Validation loss decreased (inf --> 0.147756).  Saving model ...\n",
      "Epoch: 2 \tTraining Loss: 0.602751 \tValidation Loss: 0.154469\n",
      "Epoch: 3 \tTraining Loss: 0.603001 \tValidation Loss: 0.144938\n",
      "Validation loss decreased (0.147756 --> 0.144938).  Saving model ...\n",
      "Epoch: 4 \tTraining Loss: 0.596494 \tValidation Loss: 0.142969\n",
      "Validation loss decreased (0.144938 --> 0.142969).  Saving model ...\n",
      "Epoch: 5 \tTraining Loss: 0.595174 \tValidation Loss: 0.154019\n",
      "Epoch: 6 \tTraining Loss: 0.594690 \tValidation Loss: 0.149097\n",
      "Epoch: 7 \tTraining Loss: 0.602878 \tValidation Loss: 0.142522\n",
      "Validation loss decreased (0.142969 --> 0.142522).  Saving model ...\n",
      "Epoch: 8 \tTraining Loss: 0.607299 \tValidation Loss: 0.147990\n",
      "Epoch: 9 \tTraining Loss: 0.606025 \tValidation Loss: 0.150309\n",
      "Epoch: 10 \tTraining Loss: 0.600070 \tValidation Loss: 0.152389\n",
      "Epoch: 11 \tTraining Loss: 0.602614 \tValidation Loss: 0.144434\n",
      "Epoch: 12 \tTraining Loss: 0.592776 \tValidation Loss: 0.155339\n",
      "Epoch: 13 \tTraining Loss: 0.596729 \tValidation Loss: 0.144182\n",
      "Epoch: 14 \tTraining Loss: 0.607952 \tValidation Loss: 0.149778\n",
      "Epoch: 15 \tTraining Loss: 0.602431 \tValidation Loss: 0.151515\n",
      "Epoch: 16 \tTraining Loss: 0.606490 \tValidation Loss: 0.151148\n",
      "Epoch: 17 \tTraining Loss: 0.598342 \tValidation Loss: 0.150208\n",
      "Epoch: 18 \tTraining Loss: 0.602457 \tValidation Loss: 0.150157\n",
      "Epoch: 19 \tTraining Loss: 0.603007 \tValidation Loss: 0.150820\n",
      "Epoch: 20 \tTraining Loss: 0.597312 \tValidation Loss: 0.157700\n",
      "Epoch: 1 \tTraining Loss: 0.603405 \tValidation Loss: 0.169808\n",
      "Validation loss decreased (inf --> 0.169808).  Saving model ...\n",
      "Epoch: 2 \tTraining Loss: 0.600946 \tValidation Loss: 0.150296\n",
      "Validation loss decreased (0.169808 --> 0.150296).  Saving model ...\n",
      "Epoch: 3 \tTraining Loss: 0.599058 \tValidation Loss: 0.160328\n",
      "Epoch: 4 \tTraining Loss: 0.599171 \tValidation Loss: 0.147724\n",
      "Validation loss decreased (0.150296 --> 0.147724).  Saving model ...\n",
      "Epoch: 5 \tTraining Loss: 0.603767 \tValidation Loss: 0.146661\n",
      "Validation loss decreased (0.147724 --> 0.146661).  Saving model ...\n",
      "Epoch: 6 \tTraining Loss: 0.602049 \tValidation Loss: 0.152889\n",
      "Epoch: 7 \tTraining Loss: 0.596296 \tValidation Loss: 0.140896\n",
      "Validation loss decreased (0.146661 --> 0.140896).  Saving model ...\n",
      "Epoch: 8 \tTraining Loss: 0.597651 \tValidation Loss: 0.149393\n",
      "Epoch: 9 \tTraining Loss: 0.603065 \tValidation Loss: 0.151669\n",
      "Epoch: 10 \tTraining Loss: 0.601171 \tValidation Loss: 0.163273\n",
      "Epoch: 11 \tTraining Loss: 0.604464 \tValidation Loss: 0.162065\n",
      "Epoch: 12 \tTraining Loss: 0.597683 \tValidation Loss: 0.146564\n",
      "Epoch: 13 \tTraining Loss: 0.605858 \tValidation Loss: 0.147686\n",
      "Epoch: 14 \tTraining Loss: 0.601186 \tValidation Loss: 0.155296\n",
      "Epoch: 15 \tTraining Loss: 0.599295 \tValidation Loss: 0.141973\n",
      "Epoch: 16 \tTraining Loss: 0.605152 \tValidation Loss: 0.157373\n",
      "Epoch: 17 \tTraining Loss: 0.596871 \tValidation Loss: 0.150569\n",
      "Epoch: 18 \tTraining Loss: 0.604250 \tValidation Loss: 0.165823\n",
      "Epoch: 19 \tTraining Loss: 0.603637 \tValidation Loss: 0.154256\n",
      "Epoch: 20 \tTraining Loss: 0.603426 \tValidation Loss: 0.141596\n",
      "Epoch: 1 \tTraining Loss: 0.600512 \tValidation Loss: 0.173013\n",
      "Validation loss decreased (inf --> 0.173013).  Saving model ...\n",
      "Epoch: 2 \tTraining Loss: 0.601903 \tValidation Loss: 0.161030\n",
      "Validation loss decreased (0.173013 --> 0.161030).  Saving model ...\n",
      "Epoch: 3 \tTraining Loss: 0.605438 \tValidation Loss: 0.153344\n",
      "Validation loss decreased (0.161030 --> 0.153344).  Saving model ...\n",
      "Epoch: 4 \tTraining Loss: 0.603172 \tValidation Loss: 0.149201\n",
      "Validation loss decreased (0.153344 --> 0.149201).  Saving model ...\n",
      "Epoch: 5 \tTraining Loss: 0.598981 \tValidation Loss: 0.151511\n",
      "Epoch: 6 \tTraining Loss: 0.597896 \tValidation Loss: 0.148383\n",
      "Validation loss decreased (0.149201 --> 0.148383).  Saving model ...\n",
      "Epoch: 7 \tTraining Loss: 0.600673 \tValidation Loss: 0.143910\n",
      "Validation loss decreased (0.148383 --> 0.143910).  Saving model ...\n",
      "Epoch: 8 \tTraining Loss: 0.600318 \tValidation Loss: 0.158568\n",
      "Epoch: 9 \tTraining Loss: 0.605033 \tValidation Loss: 0.149457\n",
      "Epoch: 10 \tTraining Loss: 0.596484 \tValidation Loss: 0.143591\n",
      "Validation loss decreased (0.143910 --> 0.143591).  Saving model ...\n",
      "Epoch: 11 \tTraining Loss: 0.599218 \tValidation Loss: 0.151178\n",
      "Epoch: 12 \tTraining Loss: 0.594304 \tValidation Loss: 0.152945\n",
      "Epoch: 13 \tTraining Loss: 0.599270 \tValidation Loss: 0.148927\n",
      "Epoch: 14 \tTraining Loss: 0.605741 \tValidation Loss: 0.148464\n",
      "Epoch: 15 \tTraining Loss: 0.604245 \tValidation Loss: 0.147525\n",
      "Epoch: 16 \tTraining Loss: 0.602292 \tValidation Loss: 0.151331\n",
      "Epoch: 17 \tTraining Loss: 0.599092 \tValidation Loss: 0.148611\n",
      "Epoch: 18 \tTraining Loss: 0.594401 \tValidation Loss: 0.143553\n",
      "Validation loss decreased (0.143591 --> 0.143553).  Saving model ...\n",
      "Epoch: 19 \tTraining Loss: 0.597342 \tValidation Loss: 0.147266\n",
      "Epoch: 20 \tTraining Loss: 0.596393 \tValidation Loss: 0.154647\n",
      "Epoch: 1 \tTraining Loss: 0.596816 \tValidation Loss: 0.150382\n",
      "Validation loss decreased (inf --> 0.150382).  Saving model ...\n",
      "Epoch: 2 \tTraining Loss: 0.600313 \tValidation Loss: 0.146917\n",
      "Validation loss decreased (0.150382 --> 0.146917).  Saving model ...\n",
      "Epoch: 3 \tTraining Loss: 0.605459 \tValidation Loss: 0.143030\n",
      "Validation loss decreased (0.146917 --> 0.143030).  Saving model ...\n",
      "Epoch: 4 \tTraining Loss: 0.595819 \tValidation Loss: 0.144227\n",
      "Epoch: 5 \tTraining Loss: 0.596167 \tValidation Loss: 0.162180\n",
      "Epoch: 6 \tTraining Loss: 0.599467 \tValidation Loss: 0.153018\n",
      "Epoch: 7 \tTraining Loss: 0.595423 \tValidation Loss: 0.141769\n",
      "Validation loss decreased (0.143030 --> 0.141769).  Saving model ...\n",
      "Epoch: 8 \tTraining Loss: 0.599853 \tValidation Loss: 0.143977\n",
      "Epoch: 9 \tTraining Loss: 0.600841 \tValidation Loss: 0.158046\n",
      "Epoch: 10 \tTraining Loss: 0.598693 \tValidation Loss: 0.149793\n",
      "Epoch: 11 \tTraining Loss: 0.596393 \tValidation Loss: 0.144085\n",
      "Epoch: 12 \tTraining Loss: 0.597368 \tValidation Loss: 0.154556\n",
      "Epoch: 13 \tTraining Loss: 0.598094 \tValidation Loss: 0.155028\n",
      "Epoch: 14 \tTraining Loss: 0.605043 \tValidation Loss: 0.152019\n",
      "Epoch: 15 \tTraining Loss: 0.600232 \tValidation Loss: 0.149982\n",
      "Epoch: 16 \tTraining Loss: 0.593444 \tValidation Loss: 0.144368\n",
      "Epoch: 17 \tTraining Loss: 0.605966 \tValidation Loss: 0.151881\n",
      "Epoch: 18 \tTraining Loss: 0.606786 \tValidation Loss: 0.147517\n",
      "Epoch: 19 \tTraining Loss: 0.595418 \tValidation Loss: 0.148031\n",
      "Epoch: 20 \tTraining Loss: 0.604101 \tValidation Loss: 0.148189\n",
      "Epoch: 1 \tTraining Loss: 0.594312 \tValidation Loss: 0.149646\n",
      "Validation loss decreased (inf --> 0.149646).  Saving model ...\n",
      "Epoch: 2 \tTraining Loss: 0.601044 \tValidation Loss: 0.145046\n",
      "Validation loss decreased (0.149646 --> 0.145046).  Saving model ...\n",
      "Epoch: 3 \tTraining Loss: 0.593895 \tValidation Loss: 0.169785\n",
      "Epoch: 4 \tTraining Loss: 0.606940 \tValidation Loss: 0.150383\n",
      "Epoch: 5 \tTraining Loss: 0.599005 \tValidation Loss: 0.154105\n",
      "Epoch: 6 \tTraining Loss: 0.593553 \tValidation Loss: 0.148641\n",
      "Epoch: 7 \tTraining Loss: 0.594318 \tValidation Loss: 0.143752\n",
      "Validation loss decreased (0.145046 --> 0.143752).  Saving model ...\n",
      "Epoch: 8 \tTraining Loss: 0.592825 \tValidation Loss: 0.155021\n",
      "Epoch: 9 \tTraining Loss: 0.597163 \tValidation Loss: 0.151971\n",
      "Epoch: 10 \tTraining Loss: 0.598403 \tValidation Loss: 0.143177\n",
      "Validation loss decreased (0.143752 --> 0.143177).  Saving model ...\n",
      "Epoch: 11 \tTraining Loss: 0.605371 \tValidation Loss: 0.143829\n",
      "Epoch: 12 \tTraining Loss: 0.598847 \tValidation Loss: 0.155432\n",
      "Epoch: 13 \tTraining Loss: 0.598440 \tValidation Loss: 0.156492\n",
      "Epoch: 14 \tTraining Loss: 0.600237 \tValidation Loss: 0.155335\n",
      "Epoch: 15 \tTraining Loss: 0.596655 \tValidation Loss: 0.148266\n",
      "Epoch: 16 \tTraining Loss: 0.598534 \tValidation Loss: 0.150231\n",
      "Epoch: 17 \tTraining Loss: 0.598265 \tValidation Loss: 0.141153\n",
      "Validation loss decreased (0.143177 --> 0.141153).  Saving model ...\n",
      "Epoch: 18 \tTraining Loss: 0.600515 \tValidation Loss: 0.156711\n",
      "Epoch: 19 \tTraining Loss: 0.592169 \tValidation Loss: 0.152873\n",
      "Epoch: 20 \tTraining Loss: 0.604129 \tValidation Loss: 0.154425\n",
      "Epoch: 1 \tTraining Loss: 0.597301 \tValidation Loss: 0.154507\n",
      "Validation loss decreased (inf --> 0.154507).  Saving model ...\n",
      "Epoch: 2 \tTraining Loss: 0.603143 \tValidation Loss: 0.147926\n",
      "Validation loss decreased (0.154507 --> 0.147926).  Saving model ...\n",
      "Epoch: 3 \tTraining Loss: 0.596763 \tValidation Loss: 0.148091\n",
      "Epoch: 4 \tTraining Loss: 0.593854 \tValidation Loss: 0.152825\n",
      "Epoch: 5 \tTraining Loss: 0.595895 \tValidation Loss: 0.153652\n",
      "Epoch: 6 \tTraining Loss: 0.597575 \tValidation Loss: 0.152762\n",
      "Epoch: 7 \tTraining Loss: 0.598655 \tValidation Loss: 0.146117\n",
      "Validation loss decreased (0.147926 --> 0.146117).  Saving model ...\n",
      "Epoch: 8 \tTraining Loss: 0.606855 \tValidation Loss: 0.149588\n",
      "Epoch: 9 \tTraining Loss: 0.593047 \tValidation Loss: 0.164618\n",
      "Epoch: 10 \tTraining Loss: 0.605157 \tValidation Loss: 0.146074\n",
      "Validation loss decreased (0.146117 --> 0.146074).  Saving model ...\n",
      "Epoch: 11 \tTraining Loss: 0.592503 \tValidation Loss: 0.151204\n",
      "Epoch: 12 \tTraining Loss: 0.597726 \tValidation Loss: 0.153325\n",
      "Epoch: 13 \tTraining Loss: 0.601072 \tValidation Loss: 0.145463\n",
      "Validation loss decreased (0.146074 --> 0.145463).  Saving model ...\n",
      "Epoch: 14 \tTraining Loss: 0.597204 \tValidation Loss: 0.141559\n",
      "Validation loss decreased (0.145463 --> 0.141559).  Saving model ...\n",
      "Epoch: 15 \tTraining Loss: 0.598513 \tValidation Loss: 0.148553\n",
      "Epoch: 16 \tTraining Loss: 0.597369 \tValidation Loss: 0.148792\n",
      "Epoch: 17 \tTraining Loss: 0.604894 \tValidation Loss: 0.148356\n",
      "Epoch: 18 \tTraining Loss: 0.594132 \tValidation Loss: 0.158058\n",
      "Epoch: 19 \tTraining Loss: 0.596805 \tValidation Loss: 0.142342\n",
      "Epoch: 20 \tTraining Loss: 0.595746 \tValidation Loss: 0.147079\n"
     ]
    },
    {
     "data": {
      "text/plain": [
       "<Figure size 432x288 with 0 Axes>"
      ]
     },
     "metadata": {},
     "output_type": "display_data"
    },
    {
     "data": {
      "text/plain": [
       "<Figure size 432x288 with 0 Axes>"
      ]
     },
     "metadata": {},
     "output_type": "display_data"
    },
    {
     "data": {
      "text/plain": [
       "<Figure size 432x288 with 0 Axes>"
      ]
     },
     "metadata": {},
     "output_type": "display_data"
    },
    {
     "data": {
      "text/plain": [
       "<Figure size 432x288 with 0 Axes>"
      ]
     },
     "metadata": {},
     "output_type": "display_data"
    },
    {
     "data": {
      "text/plain": [
       "<Figure size 432x288 with 0 Axes>"
      ]
     },
     "metadata": {},
     "output_type": "display_data"
    },
    {
     "data": {
      "text/plain": [
       "<Figure size 432x288 with 0 Axes>"
      ]
     },
     "metadata": {},
     "output_type": "display_data"
    },
    {
     "data": {
      "text/plain": [
       "<Figure size 432x288 with 0 Axes>"
      ]
     },
     "metadata": {},
     "output_type": "display_data"
    },
    {
     "data": {
      "text/plain": [
       "<Figure size 432x288 with 0 Axes>"
      ]
     },
     "metadata": {},
     "output_type": "display_data"
    }
   ],
   "source": [
    "#--------------------------------pca--------------------------\n",
    "weights_list = []\n",
    "weights_list1 = []\n",
    "train_losslist1 = []\n",
    "for i in range(8):\n",
    "    n_epochs = [*range(20)]\n",
    "    valid_loss_min = np.Inf \n",
    "    plt.figure()\n",
    "    for epoch in range(1, len(n_epochs)+1):\n",
    "        train_loss = 0.0\n",
    "        valid_loss = 0.0\n",
    "        \n",
    "        model1.train()\n",
    "        for data, target in train_loader:\n",
    "            if train_on_gpu:\n",
    "                data, target = data.cuda(), target.cuda()\n",
    "            optimizer.zero_grad()\n",
    "            output = model1(data)\n",
    "            loss = criterion(output, target)\n",
    "            loss.backward()\n",
    "            optimizer.step()\n",
    "            train_loss += loss.item()*data.size(0)\n",
    "        model1.eval()\n",
    "        #weights = list(model1.parameters())\n",
    "        #print(weights)\n",
    "        if (epoch + 1) % 3 == 0:\n",
    "            weights = []\n",
    "            weights1=[]\n",
    "            for name, param in model1.named_parameters():\n",
    "                if \"weight\" in name:\n",
    "                    weights.append(param.data.cpu().numpy().flatten())\n",
    "            weights = np.concatenate(weights)\n",
    "            weights_list.append(weights)\n",
    "            weights1.append(model1.fc1.weight.data.cpu().numpy().flatten())\n",
    "            weights1 = np.concatenate(weights1)\n",
    "            weights_list1.append(weights1)\n",
    "            \n",
    "        \n",
    "        for data, target in valid_loader:\n",
    "            if train_on_gpu:\n",
    "                data, target = data.cuda(), target.cuda()\n",
    "            output = model1(data)\n",
    "            loss = criterion(output, target)\n",
    "            valid_loss += loss.item()*data.size(0)\n",
    "        \n",
    "        train_loss = train_loss/len(train_loader.dataset)\n",
    "        valid_loss = valid_loss/len(valid_loader.dataset)\n",
    "        train_losslist1.append(train_loss)\n",
    "        print('Epoch: {} \\tTraining Loss: {:.6f} \\tValidation Loss: {:.6f}'.format(\n",
    "        epoch, train_loss, valid_loss))\n",
    "        \n",
    "        if valid_loss <= valid_loss_min:\n",
    "            print('Validation loss decreased ({:.6f} --> {:.6f}).  Saving model ...'.format(\n",
    "        valid_loss_min,\n",
    "        valid_loss))\n",
    "            torch.save(model1.state_dict(), 'model_cifar.pt')\n",
    "            valid_loss_min = valid_loss\n",
    "\n",
    "            \n",
    "            "
   ]
  },
  {
   "cell_type": "code",
   "execution_count": 40,
   "id": "a8c15fc2-bc13-4aa9-a90d-8b0771d044f9",
   "metadata": {},
   "outputs": [
    {
     "data": {
      "image/png": "[encoded data removed]",
      "text/plain": [
       "<Figure size 432x288 with 1 Axes>"
      ]
     },
     "metadata": {
      "needs_background": "light"
     },
     "output_type": "display_data"
    },
    {
     "data": {
      "image/png": "[encoded data removed]",
      "text/plain": [
       "<Figure size 432x288 with 1 Axes>"
      ]
     },
     "metadata": {
      "needs_background": "light"
     },
     "output_type": "display_data"
    }
   ],
   "source": [
    "color = ['red', 'blue', 'yellow', 'green', 'orange', 'cyan','black']\n",
    "pca = PCA(n_components=2)\n",
    "weights_2d = pca.fit_transform(weights_list)\n",
    "# Plot pca1 vs pca2 on a graph\n",
    "plt.scatter(weights_2d[:, 0], weights_2d[:, 1])\n",
    "plt.title('whole model')\n",
    "plt.xlabel(\"PCA 1\")\n",
    "plt.ylabel(\"PCA 2\")\n",
    "plt.savefig('whole model weights.png')\n",
    "plt.show()\n",
    "\n",
    "pca1 = PCA(n_components=2)\n",
    "weights_2d1 = pca1.fit_transform(weights_list1)\n",
    "plt.scatter(weights_2d1[:, 0], weights_2d1[:, 1])\n",
    "plt.title('one layer')\n",
    "plt.xlabel(\"PCA 1\")\n",
    "plt.ylabel(\"PCA 2\")\n",
    "plt.savefig('one layer.png')\n",
    "plt.show()"
   ]
  }
 ],
 "metadata": {
  "kernelspec": {
   "display_name": "Python 3 (ipykernel)",
   "language": "python",
   "name": "python3"
  },
  "language_info": {
   "codemirror_mode": {
    "name": "ipython",
    "version": 3
   },
   "file_extension": ".py",
   "mimetype": "text/x-python",
   "name": "python",
   "nbconvert_exporter": "python",
   "pygments_lexer": "ipython3",
   "version": "3.9.12"
  }
 },
 "nbformat": 4,
 "nbformat_minor": 5
}
